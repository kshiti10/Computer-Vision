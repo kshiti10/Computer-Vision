{
 "cells": [
  {
   "cell_type": "code",
   "execution_count": 3,
   "metadata": {},
   "outputs": [],
   "source": [
    "import cv2\n",
    "import time\n",
    "\n",
    "# Same command function as streaming, its just now we pass in the file path\n",
    "cap = cv2.VideoCapture(\"C:/7-Computer_Vision/student_capture.mp4\")\n",
    "\n",
    "# FRAMES PER SECOND for video\n",
    "fps = 25\n",
    "\n",
    "# Always a good idea to check if the video was actually there\n",
    "# If you get an error at this step, triple check your file path\n",
    "if cap.isOpened()==False : \n",
    "    print(\"Error opening the video file. Please double check your file path\")\n",
    "    \n",
    "# While the video is opened\n",
    "while cap.isOpened():\n",
    "    \n",
    "    # Read the video file\n",
    "    ret, frame = cap.read()\n",
    "    \n",
    "    # If we got frames, show them\n",
    "    if ret==True:\n",
    "        \n",
    "        # Display the frame at same frame rate of recording\n",
    "        \n",
    "        time.sleep(1/fps)\n",
    "        cv2.imshow('frame',frame)\n",
    "        \n",
    "        # Press q to quit\n",
    "        if cv2.waitKey(25) & 0xFF == ord('q'):\n",
    "            break\n",
    "        \n",
    "# When everything done, release the capture and destroy the windows \n",
    "cap.release()\n",
    "# Closes all frames\n",
    "cv2.destroyAllWindows()\n",
    "        "
   ]
  },
  {
   "cell_type": "code",
   "execution_count": null,
   "metadata": {},
   "outputs": [],
   "source": []
  }
 ],
 "metadata": {
  "kernelspec": {
   "display_name": "Python 3",
   "language": "python",
   "name": "python3"
  },
  "language_info": {
   "codemirror_mode": {
    "name": "ipython",
    "version": 3
   },
   "file_extension": ".py",
   "mimetype": "text/x-python",
   "name": "python",
   "nbconvert_exporter": "python",
   "pygments_lexer": "ipython3",
   "version": "3.6.6"
  }
 },
 "nbformat": 4,
 "nbformat_minor": 2
}
